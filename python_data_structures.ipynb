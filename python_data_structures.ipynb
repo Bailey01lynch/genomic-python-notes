{
 "cells": [
  {
   "cell_type": "markdown",
   "id": "5dc41556-a06b-46d2-9847-9595e868d38f",
   "metadata": {},
   "source": [
    "# Python Data Structures - Lists, Tuples, Sets, and Dictionaries\n",
    "**Date:** [02/19/2025]\n",
    "**Course:** Genomic Data Science (Python) \n",
    "\n",
    "---\n",
    "\n",
    "## **1. Lists**\n",
    "**Definition**\n",
    "- Lists are **ordered collections** that can contain multiple data types.\n",
    "- They are **mutable**, meaning elements can be changed.\n",
    "- Lists are created using **Square brackets `[]`**."
   ]
  },
  {
   "cell_type": "code",
   "execution_count": 60,
   "id": "178bb70c-2479-4506-8219-e2bfcead74f6",
   "metadata": {},
   "outputs": [
    {
     "name": "stdout",
     "output_type": "stream",
     "text": [
      "['gene', 2.34e-05, 0.00122, 7.33e-08]\n",
      "Third element: 0.00122\n",
      "last element: 7.33e-08\n",
      "['lif', 2.34e-05, 0.00122, 7.33e-08]\n"
     ]
    }
   ],
   "source": [
    "# Creating a list\n",
    "gene_expression = [\"gene\", 2.34e-05, 1.22e-03, 7.33e-08]\n",
    "print(gene_expression)\n",
    "\n",
    "# Accessing elements\n",
    "print(\"Third element:\", gene_expression[2])  #Index starts from 0\n",
    "print(\"last element:\", gene_expression[-1])  #Using negative index\n",
    "\n",
    "#modifying an element\n",
    "gene_expression[0]= \"lif\"  #changing \"gene\" to \"lif\"\n",
    "print(gene_expression)"
   ]
  },
  {
   "cell_type": "markdown",
   "id": "76e7f2b3-6736-4d5f-a656-139d71793321",
   "metadata": {},
   "source": [
    "# List Slicing:\n",
    "- Extract a subset of a list.\n",
    "- Uses the format `[start:end]` (end index is **exclusive**)."
   ]
  },
  {
   "cell_type": "code",
   "execution_count": 61,
   "id": "02bd072c-28b2-4f49-8446-cb38208a0333",
   "metadata": {},
   "outputs": [
    {
     "name": "stdout",
     "output_type": "stream",
     "text": [
      "[2.34e-05, 0.00122, 7.33e-08]\n",
      "['lif', 2.34e-05, 0.00122, 7.33e-08]\n"
     ]
    }
   ],
   "source": [
    "#Slicing a list\n",
    "subset = gene_expression[-3:]  #Last 3 elements\n",
    "print(subset)\n",
    "\n",
    "#Creating a full copy of the list\n",
    "copy_list = gene_expression[:]\n",
    "print(copy_list)"
   ]
  },
  {
   "cell_type": "markdown",
   "id": "53394634-df28-4798-9b09-1653513e40fe",
   "metadata": {},
   "source": [
    "#List Operations:\n",
    "- **Concatenation (`+`)**: Combines two lists\n",
    "- **Length (`len()`)**: Returns the number of elements"
   ]
  },
  {
   "cell_type": "code",
   "execution_count": 62,
   "id": "b1792f62-2990-49a0-a92f-21e913583e24",
   "metadata": {},
   "outputs": [
    {
     "name": "stdout",
     "output_type": "stream",
     "text": [
      "['lif', 2.34e-05, 0.00122, 7.33e-08, 'BRCA1', 'BRCA2']\n",
      "Length of gene_expression: 4\n"
     ]
    }
   ],
   "source": [
    "#Concatenating lists\n",
    "more_genes = [\"BRCA1\", \"BRCA2\"]\n",
    "combined_list = gene_expression + more_genes\n",
    "print(combined_list)\n",
    "\n",
    "#Length of a list\n",
    "print(\"Length of gene_expression:\", len(gene_expression))"
   ]
  },
  {
   "cell_type": "markdown",
   "id": "a362bcdb-66d3-4903-a46f-266c05270228",
   "metadata": {},
   "source": [
    "# List Methods:\n",
    "- `.append()`: Adds an element to the end\n",
    "- `.extend()`: Adds multiple elements\n",
    "- `.pop()`: Removes and returns the last element\n",
    "- `.sort()`: Sorts the list"
   ]
  },
  {
   "cell_type": "code",
   "execution_count": 63,
   "id": "dc7f116b-ecc8-4a6e-92f5-5da0e7094c13",
   "metadata": {},
   "outputs": [
    {
     "name": "stdout",
     "output_type": "stream",
     "text": [
      "['lif', 2.34e-05, 0.00122, 7.33e-08, 'new_gene']\n",
      "['lif', 2.34e-05, 0.00122, 7.33e-08, 'new_gene', 'extra1', 'extra2']\n",
      "['lif', 2.34e-05, 0.00122, 7.33e-08, 'new_gene', 'extra1']\n",
      "[1, 1, 3, 4, 5]\n"
     ]
    }
   ],
   "source": [
    "#Using list methods\n",
    "gene_expression.append(\"new_gene\")  #Adds a new element\n",
    "print(gene_expression)\n",
    "\n",
    "gene_expression.extend([\"extra1\", \"extra2\"])  #Extends with multiple elements\n",
    "print(gene_expression)\n",
    "\n",
    "gene_expression.pop()  #Removes the last element\n",
    "print(gene_expression)\n",
    "\n",
    "numbers = [3, 1, 4, 1, 5]\n",
    "numbers.sort()  #Sorts the list\n",
    "print(numbers)"
   ]
  },
  {
   "cell_type": "markdown",
   "id": "744a88d2-cbed-4f33-94d9-314090b4a31b",
   "metadata": {},
   "source": [
    "## **2. Tuples**\n",
    "\n",
    "**Definition**:\n",
    "- Like lists, but **immutable** (cannot be changed)\n",
    "- Defined using **commas** (with or without parentheses)"
   ]
  },
  {
   "cell_type": "code",
   "execution_count": 64,
   "id": "e133eccf-f010-4462-848a-da3dcce61601",
   "metadata": {},
   "outputs": [
    {
     "name": "stdout",
     "output_type": "stream",
     "text": [
      "(10, 20, 30)\n",
      "(10, 20, 30)\n"
     ]
    }
   ],
   "source": [
    "#Creating a tuple\n",
    "t = 10, 20, 30\n",
    "print(t)\n",
    "\n",
    "#Creating a tuple with parentheses (same result)\n",
    "t = (10, 20, 30)\n",
    "print(t)\n",
    "\n",
    "#Trying to modify a tuple will raise an error\n",
    "#t(0)=100  #uncomment to see the error"
   ]
  },
  {
   "cell_type": "markdown",
   "id": "1ff8a048-91ea-4009-827f-b4f761f54fe6",
   "metadata": {},
   "source": [
    "## **3. Sets** \n",
    "\n",
    "**Definition**\n",
    "- Unordered collection of **unique** elements.\n",
    "- **No duplicate values, no indexing**.\n",
    "- Useful for **removing duplicates**. "
   ]
  },
  {
   "cell_type": "code",
   "execution_count": 65,
   "id": "d11c5440-b310-44ee-a19c-95cc6c886eba",
   "metadata": {},
   "outputs": [
    {
     "name": "stdout",
     "output_type": "stream",
     "text": [
      "{'cell cycle regulation', 'DNA repair'}\n",
      "{'cell cycle regulation', 'protein binding', 'DNA repair'}\n",
      "{'protein binding', 'DNA repair'}\n"
     ]
    }
   ],
   "source": [
    "#Creating a set (duplicates are removed)\n",
    "brca1_go_terms = {\"DNA repair\", \"cell cycle regulation\", \"DNA repair\"}\n",
    "print(brca1_go_terms)  #\"DNA repair\" appears only once\n",
    "\n",
    "#Adding an element to a set\n",
    "brca1_go_terms.add(\"protein binding\")\n",
    "print(brca1_go_terms)\n",
    "\n",
    "#Removing an element\n",
    "brca1_go_terms.remove(\"cell cycle regulation\")\n",
    "print(brca1_go_terms)"
   ]
  },
  {
   "cell_type": "markdown",
   "id": "49ef6add-3d58-4cac-91bf-2da5325afaac",
   "metadata": {},
   "source": [
    "# Set Operation:\n",
    "- **Union (`|`)**: Combines two sets\n",
    "- **Intersection (`&`)**: Finds common elements\n",
    "- **Difference (`-`)**: Finds elements in one set but not the other "
   ]
  },
  {
   "cell_type": "code",
   "execution_count": 66,
   "id": "8daca35b-1c39-455a-9297-0ebbb80f5351",
   "metadata": {},
   "outputs": [
    {
     "name": "stdout",
     "output_type": "stream",
     "text": [
      "{'transcription regulation', 'protein binding', 'DNA repair'}\n",
      "{'protein binding', 'DNA repair'}\n",
      "{'transcription regulation'}\n"
     ]
    }
   ],
   "source": [
    "# BRCA1 and BRCA2 gene annotation sets\n",
    "brca2_go_terms = {\"DNA repair\", \"protein binding\", \"transcription regulation\"}\n",
    "\n",
    "#Union: All unique terms from both genes\n",
    "print(brca1_go_terms | brca2_go_terms)\n",
    "\n",
    "#Intersection: Terms common to both genes \n",
    "print(brca1_go_terms & brca2_go_terms)\n",
    "\n",
    "# Difference: Terms in BRCA2 but not in BRCA1\n",
    "print(brca2_go_terms - brca1_go_terms)"
   ]
  },
  {
   "cell_type": "markdown",
   "id": "db368557-e630-4903-aba2-1df20c5f230d",
   "metadata": {},
   "source": [
    "## **4. Dictionaries**\n",
    "\n",
    "**Definition**:\n",
    "- Stores **key-value pairs** (like a real dictionary)\n",
    "- Keys must be **unique and immutable** (e.g., strings, numbers).\n",
    "- Values can be **any data type**."
   ]
  },
  {
   "cell_type": "code",
   "execution_count": 67,
   "id": "3e1e347d-3bbc-4197-9566-08baee44480b",
   "metadata": {},
   "outputs": [
    {
     "name": "stdout",
     "output_type": "stream",
     "text": [
      "{'ATF': 'TGAC GTCA', 'c-Myc': 'CACGTG', 'SP1': 'GGGCGG'}\n",
      "ATF motif: TGAC GTCA\n",
      "False\n"
     ]
    }
   ],
   "source": [
    "#Creating a dicstionary \n",
    "TF_motif = {\"ATF\": \"TGAC GTCA\", \"c-Myc\": \"CACGTG\", \"SP1\": \"GGGCGG\"}\n",
    "print(TF_motif)\n",
    "\n",
    "#Accessing a value using its key\n",
    "print(\"ATF motif:\", TF_motif[\"ATF\"] )\n",
    "\n",
    "#Checking if a key exists\n",
    "print(\"NF-1\" in TF_motif)  #False (not in dictionary)"
   ]
  },
  {
   "cell_type": "markdown",
   "id": "19f61613-29d7-4964-9f91-90a3230dd6f3",
   "metadata": {},
   "source": [
    "# Modifying a Dictionary:\n",
    "- **Adding a new key-value pair**: `TF_motif[\"AP-1\"] = \"TGACTCA\"`\n",
    "- **Updating a value**: `TF_motif[\"SP1\"] = \"GGGCCC\"`\n",
    "- **Removing a key**: `del TF_motif[\"SP1\"]`"
   ]
  },
  {
   "cell_type": "code",
   "execution_count": 68,
   "id": "771cb889-c4f6-44a1-b09a-6cae187f94a1",
   "metadata": {},
   "outputs": [
    {
     "name": "stdout",
     "output_type": "stream",
     "text": [
      "{'ATF': 'TGAC GTCA', 'c-Myc': 'CACGTG', 'SP1': 'GGGCGG', 'AP-1': 'TGACTCA'}\n",
      "{'ATF': 'TGAC GTCA', 'c-Myc': 'CACGTG', 'SP1': 'GGGCCC', 'AP-1': 'TGACTCA'}\n",
      "{'ATF': 'TGAC GTCA', 'c-Myc': 'CACGTG', 'AP-1': 'TGACTCA'}\n"
     ]
    }
   ],
   "source": [
    "#Adding a new transcription factor\n",
    "TF_motif[\"AP-1\"] = \"TGACTCA\"\n",
    "print(TF_motif)\n",
    "\n",
    "#Modifying an existing entry \n",
    "TF_motif[\"SP1\"] = \"GGGCCC\"\n",
    "print(TF_motif)\n",
    "\n",
    "#Deleting a key-value pair\n",
    "del TF_motif[\"SP1\"]\n",
    "print(TF_motif)"
   ]
  },
  {
   "cell_type": "markdown",
   "id": "8314de76-fe19-483b-8754-2102076a969d",
   "metadata": {},
   "source": [
    "## **5. Dictionary Methods**\n",
    "- `.keys()`: Get all keys\n",
    "- `.values()`: Get all value \n",
    "- `.update()`: Add multiple key-value pairs\n",
    "- `len(dictionary)`: Get number of key-value pairs"
   ]
  },
  {
   "cell_type": "code",
   "execution_count": 69,
   "id": "37020e58-d062-4e15-bbeb-781d86ba32a3",
   "metadata": {},
   "outputs": [
    {
     "name": "stdout",
     "output_type": "stream",
     "text": [
      "['ATF', 'c-Myc', 'AP-1']\n",
      "['TGAC GTCA', 'CACGTG', 'TGACTCA']\n",
      "{'ATF': 'TGAC GTCA', 'c-Myc': 'CACGTG', 'AP-1': 'TGACTCA', 'EGR1': 'GCGTGGGCG', 'NF-kB': 'GGGRNNYYCC'}\n",
      "Number of motifs: 5\n"
     ]
    }
   ],
   "source": [
    "#Get all keys\n",
    "print(list(TF_motif.keys()))\n",
    "\n",
    "#Get all values\n",
    "print(list(TF_motif.values()))\n",
    "\n",
    "#Update dictionary with new key-value pairs\n",
    "TF_motif.update({\"EGR1\": \"GCGTGGGCG\", \"NF-kB\" : \"GGGRNNYYCC\"})\n",
    "print(TF_motif)\n",
    "\n",
    "#Get dictionary size\n",
    "print(\"Number of motifs:\", len(TF_motif))"
   ]
  },
  {
   "cell_type": "markdown",
   "id": "225e231c-a59f-4a8b-a54c-156549f1544a",
   "metadata": {},
   "source": [
    "## Summary and Reflection\n",
    "- **Lists**: Ordered, mutable collections with powerful methods.\n",
    "- **Tuples**: Like lists, but immutable.\n",
    "- **Sets**: Unordered, unique elements; useful for operations like union and intersection.\n",
    "- **Dictionaries**: Key-value pairs for fast lookups.\n",
    "\n",
    "**Questions for further exploration**\n",
    "- When should we use tuples instead of lists?"
   ]
  }
 ],
 "metadata": {
  "kernelspec": {
   "display_name": "Python 3 (ipykernel)",
   "language": "python",
   "name": "python3"
  },
  "language_info": {
   "codemirror_mode": {
    "name": "ipython",
    "version": 3
   },
   "file_extension": ".py",
   "mimetype": "text/x-python",
   "name": "python",
   "nbconvert_exporter": "python",
   "pygments_lexer": "ipython3",
   "version": "3.13.0"
  }
 },
 "nbformat": 4,
 "nbformat_minor": 5
}
